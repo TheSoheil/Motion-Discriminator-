{
 "cells": [
  {
   "cell_type": "markdown",
   "id": "543ed675",
   "metadata": {},
   "source": [
    "# This program is developed by Soheil Hekmat for Measurement Project"
   ]
  },
  {
   "cell_type": "markdown",
   "id": "67038722",
   "metadata": {},
   "source": [
    "in this program we wanna use our dataset which was built in our tests by IMU sensors for KNN method"
   ]
  },
  {
   "cell_type": "markdown",
   "id": "a0169224",
   "metadata": {},
   "source": [
    "# importing libraries"
   ]
  },
  {
   "cell_type": "code",
   "execution_count": 1,
   "id": "79043ff7",
   "metadata": {},
   "outputs": [],
   "source": [
    "import numpy as np\n",
    "import matplotlib.pyplot as plt\n",
    "import pandas as pd\n",
    "from os import chdir\n",
    "from sklearn import preprocessing\n",
    "chdir('C:\\\\Users\\\\Predator\\\\Downloads')"
   ]
  },
  {
   "cell_type": "markdown",
   "id": "6bdaba9f",
   "metadata": {},
   "source": [
    "# Creating Dataframe by Pandas"
   ]
  },
  {
   "cell_type": "code",
   "execution_count": 4,
   "id": "21100183",
   "metadata": {},
   "outputs": [
    {
     "data": {
      "text/html": [
       "<div>\n",
       "<style scoped>\n",
       "    .dataframe tbody tr th:only-of-type {\n",
       "        vertical-align: middle;\n",
       "    }\n",
       "\n",
       "    .dataframe tbody tr th {\n",
       "        vertical-align: top;\n",
       "    }\n",
       "\n",
       "    .dataframe thead th {\n",
       "        text-align: right;\n",
       "    }\n",
       "</style>\n",
       "<table border=\"1\" class=\"dataframe\">\n",
       "  <thead>\n",
       "    <tr style=\"text-align: right;\">\n",
       "      <th></th>\n",
       "      <th>AccelX</th>\n",
       "      <th>AccelY</th>\n",
       "      <th>AccelZ</th>\n",
       "      <th>L</th>\n",
       "    </tr>\n",
       "  </thead>\n",
       "  <tbody>\n",
       "    <tr>\n",
       "      <th>0</th>\n",
       "      <td>0.00</td>\n",
       "      <td>-0.00</td>\n",
       "      <td>1.0</td>\n",
       "      <td>0</td>\n",
       "    </tr>\n",
       "    <tr>\n",
       "      <th>1</th>\n",
       "      <td>-0.00</td>\n",
       "      <td>-0.01</td>\n",
       "      <td>1.0</td>\n",
       "      <td>0</td>\n",
       "    </tr>\n",
       "    <tr>\n",
       "      <th>2</th>\n",
       "      <td>0.00</td>\n",
       "      <td>0.01</td>\n",
       "      <td>1.0</td>\n",
       "      <td>0</td>\n",
       "    </tr>\n",
       "    <tr>\n",
       "      <th>3</th>\n",
       "      <td>0.01</td>\n",
       "      <td>0.00</td>\n",
       "      <td>1.0</td>\n",
       "      <td>0</td>\n",
       "    </tr>\n",
       "    <tr>\n",
       "      <th>4</th>\n",
       "      <td>0.00</td>\n",
       "      <td>-0.01</td>\n",
       "      <td>1.0</td>\n",
       "      <td>0</td>\n",
       "    </tr>\n",
       "    <tr>\n",
       "      <th>5</th>\n",
       "      <td>-0.00</td>\n",
       "      <td>0.00</td>\n",
       "      <td>1.0</td>\n",
       "      <td>0</td>\n",
       "    </tr>\n",
       "    <tr>\n",
       "      <th>6</th>\n",
       "      <td>-0.00</td>\n",
       "      <td>-0.00</td>\n",
       "      <td>1.0</td>\n",
       "      <td>0</td>\n",
       "    </tr>\n",
       "    <tr>\n",
       "      <th>7</th>\n",
       "      <td>0.01</td>\n",
       "      <td>0.01</td>\n",
       "      <td>1.0</td>\n",
       "      <td>0</td>\n",
       "    </tr>\n",
       "    <tr>\n",
       "      <th>8</th>\n",
       "      <td>-0.00</td>\n",
       "      <td>-0.01</td>\n",
       "      <td>1.0</td>\n",
       "      <td>0</td>\n",
       "    </tr>\n",
       "    <tr>\n",
       "      <th>9</th>\n",
       "      <td>-0.01</td>\n",
       "      <td>0.00</td>\n",
       "      <td>1.0</td>\n",
       "      <td>0</td>\n",
       "    </tr>\n",
       "  </tbody>\n",
       "</table>\n",
       "</div>"
      ],
      "text/plain": [
       "   AccelX  AccelY  AccelZ  L\n",
       "0    0.00   -0.00     1.0  0\n",
       "1   -0.00   -0.01     1.0  0\n",
       "2    0.00    0.01     1.0  0\n",
       "3    0.01    0.00     1.0  0\n",
       "4    0.00   -0.01     1.0  0\n",
       "5   -0.00    0.00     1.0  0\n",
       "6   -0.00   -0.00     1.0  0\n",
       "7    0.01    0.01     1.0  0\n",
       "8   -0.00   -0.01     1.0  0\n",
       "9   -0.01    0.00     1.0  0"
      ]
     },
     "execution_count": 4,
     "metadata": {},
     "output_type": "execute_result"
    }
   ],
   "source": [
    "df = pd.read_csv('All.txt')\n",
    "df.head(10)"
   ]
  },
  {
   "cell_type": "markdown",
   "id": "44763dae",
   "metadata": {},
   "source": [
    "here we check how many different labels we have in this dataframe."
   ]
  },
  {
   "cell_type": "code",
   "execution_count": 5,
   "id": "d453377e",
   "metadata": {},
   "outputs": [
    {
     "data": {
      "text/plain": [
       "L\n",
       "0    100\n",
       "1     50\n",
       "2     50\n",
       "Name: count, dtype: int64"
      ]
     },
     "execution_count": 5,
     "metadata": {},
     "output_type": "execute_result"
    }
   ],
   "source": [
    "df['L'].value_counts()"
   ]
  },
  {
   "cell_type": "markdown",
   "id": "2480e7b2",
   "metadata": {},
   "source": [
    "in this section we get a statistical summery of our dataframe"
   ]
  },
  {
   "cell_type": "code",
   "execution_count": 6,
   "id": "5ced168c",
   "metadata": {},
   "outputs": [
    {
     "data": {
      "text/html": [
       "<div>\n",
       "<style scoped>\n",
       "    .dataframe tbody tr th:only-of-type {\n",
       "        vertical-align: middle;\n",
       "    }\n",
       "\n",
       "    .dataframe tbody tr th {\n",
       "        vertical-align: top;\n",
       "    }\n",
       "\n",
       "    .dataframe thead th {\n",
       "        text-align: right;\n",
       "    }\n",
       "</style>\n",
       "<table border=\"1\" class=\"dataframe\">\n",
       "  <thead>\n",
       "    <tr style=\"text-align: right;\">\n",
       "      <th></th>\n",
       "      <th>AccelX</th>\n",
       "      <th>AccelY</th>\n",
       "      <th>AccelZ</th>\n",
       "      <th>L</th>\n",
       "    </tr>\n",
       "  </thead>\n",
       "  <tbody>\n",
       "    <tr>\n",
       "      <th>count</th>\n",
       "      <td>200.000000</td>\n",
       "      <td>200.000000</td>\n",
       "      <td>200.000000</td>\n",
       "      <td>200.000000</td>\n",
       "    </tr>\n",
       "    <tr>\n",
       "      <th>mean</th>\n",
       "      <td>0.008450</td>\n",
       "      <td>-0.012700</td>\n",
       "      <td>0.995700</td>\n",
       "      <td>0.750000</td>\n",
       "    </tr>\n",
       "    <tr>\n",
       "      <th>std</th>\n",
       "      <td>0.046496</td>\n",
       "      <td>0.064728</td>\n",
       "      <td>0.112917</td>\n",
       "      <td>0.831237</td>\n",
       "    </tr>\n",
       "    <tr>\n",
       "      <th>min</th>\n",
       "      <td>-0.160000</td>\n",
       "      <td>-0.330000</td>\n",
       "      <td>0.530000</td>\n",
       "      <td>0.000000</td>\n",
       "    </tr>\n",
       "    <tr>\n",
       "      <th>25%</th>\n",
       "      <td>0.000000</td>\n",
       "      <td>-0.012500</td>\n",
       "      <td>0.990000</td>\n",
       "      <td>0.000000</td>\n",
       "    </tr>\n",
       "    <tr>\n",
       "      <th>50%</th>\n",
       "      <td>0.000000</td>\n",
       "      <td>0.000000</td>\n",
       "      <td>1.000000</td>\n",
       "      <td>0.500000</td>\n",
       "    </tr>\n",
       "    <tr>\n",
       "      <th>75%</th>\n",
       "      <td>0.010000</td>\n",
       "      <td>0.000000</td>\n",
       "      <td>1.010000</td>\n",
       "      <td>1.250000</td>\n",
       "    </tr>\n",
       "    <tr>\n",
       "      <th>max</th>\n",
       "      <td>0.330000</td>\n",
       "      <td>0.240000</td>\n",
       "      <td>1.470000</td>\n",
       "      <td>2.000000</td>\n",
       "    </tr>\n",
       "  </tbody>\n",
       "</table>\n",
       "</div>"
      ],
      "text/plain": [
       "           AccelX      AccelY      AccelZ           L\n",
       "count  200.000000  200.000000  200.000000  200.000000\n",
       "mean     0.008450   -0.012700    0.995700    0.750000\n",
       "std      0.046496    0.064728    0.112917    0.831237\n",
       "min     -0.160000   -0.330000    0.530000    0.000000\n",
       "25%      0.000000   -0.012500    0.990000    0.000000\n",
       "50%      0.000000    0.000000    1.000000    0.500000\n",
       "75%      0.010000    0.000000    1.010000    1.250000\n",
       "max      0.330000    0.240000    1.470000    2.000000"
      ]
     },
     "execution_count": 6,
     "metadata": {},
     "output_type": "execute_result"
    }
   ],
   "source": [
    "df.describe()"
   ]
  },
  {
   "cell_type": "markdown",
   "id": "e96e00d5",
   "metadata": {},
   "source": [
    "so we have 200 datas with 3 features. our datas are labled so we should do a supervised machine learning method. "
   ]
  },
  {
   "cell_type": "markdown",
   "id": "3abfcc1d",
   "metadata": {},
   "source": [
    "our fetures are acceleration values in x-y-z axis and label is 0,1 and 2. each number  refers to a state of action and movement. 0 for static state, 1 for walking and 2 for running."
   ]
  },
  {
   "cell_type": "markdown",
   "id": "4e64ef1a",
   "metadata": {},
   "source": [
    "# creating X and Y arrays"
   ]
  },
  {
   "cell_type": "markdown",
   "id": "606d6e87",
   "metadata": {},
   "source": [
    "we assign 3 features(all we got) to X and our Label to Y"
   ]
  },
  {
   "cell_type": "code",
   "execution_count": 8,
   "id": "49081276",
   "metadata": {},
   "outputs": [
    {
     "data": {
      "text/plain": [
       "array([[ 0.  , -0.  ,  1.  ],\n",
       "       [-0.  , -0.01,  1.  ],\n",
       "       [ 0.  ,  0.01,  1.  ],\n",
       "       [ 0.01,  0.  ,  1.  ],\n",
       "       [ 0.  , -0.01,  1.  ]])"
      ]
     },
     "execution_count": 8,
     "metadata": {},
     "output_type": "execute_result"
    }
   ],
   "source": [
    "X = df[['AccelX','AccelY','AccelZ']] .values \n",
    "Y = df['L'].values\n",
    "X[0:5]"
   ]
  },
  {
   "cell_type": "markdown",
   "id": "e528ea2f",
   "metadata": {},
   "source": [
    "# Data Preprocessing and Normalization"
   ]
  },
  {
   "cell_type": "markdown",
   "id": "50fba222",
   "metadata": {},
   "source": [
    "here we normalize our data to get zero mean and normal standard deviation based on gausian destribution to get better results from model."
   ]
  },
  {
   "cell_type": "code",
   "execution_count": 9,
   "id": "a88bc6d4",
   "metadata": {},
   "outputs": [
    {
     "data": {
      "text/plain": [
       "array([[-0.18219089,  0.19669933,  0.03817661],\n",
       "       [-0.18219089,  0.04181797,  0.03817661],\n",
       "       [-0.18219089,  0.35158069,  0.03817661],\n",
       "       [ 0.03341963,  0.19669933,  0.03817661],\n",
       "       [-0.18219089,  0.04181797,  0.03817661],\n",
       "       [-0.18219089,  0.19669933,  0.03817661],\n",
       "       [-0.18219089,  0.19669933,  0.03817661],\n",
       "       [ 0.03341963,  0.35158069,  0.03817661],\n",
       "       [-0.18219089,  0.04181797,  0.03817661],\n",
       "       [-0.39780141,  0.19669933,  0.03817661],\n",
       "       [-0.18219089,  0.19669933,  0.03817661],\n",
       "       [-0.18219089,  0.19669933,  0.03817661],\n",
       "       [-0.18219089,  0.04181797,  0.03817661],\n",
       "       [-0.18219089,  0.35158069,  0.03817661],\n",
       "       [ 0.03341963,  0.19669933,  0.12695943],\n",
       "       [-0.39780141,  0.19669933,  0.03817661],\n",
       "       [-0.18219089,  0.19669933,  0.03817661],\n",
       "       [-0.18219089,  0.19669933, -0.05060621],\n",
       "       [-0.18219089,  0.19669933,  0.03817661],\n",
       "       [-0.18219089,  0.04181797,  0.12695943],\n",
       "       [-0.18219089,  0.19669933, -0.05060621],\n",
       "       [-0.18219089,  0.19669933,  0.03817661],\n",
       "       [-0.18219089,  0.19669933, -0.05060621],\n",
       "       [-0.18219089,  0.19669933,  0.12695943],\n",
       "       [-0.18219089,  0.04181797,  0.03817661],\n",
       "       [-0.18219089,  0.19669933,  0.12695943],\n",
       "       [-0.18219089,  0.19669933,  0.03817661],\n",
       "       [-0.18219089,  0.19669933,  0.03817661],\n",
       "       [-0.18219089,  0.19669933,  0.03817661],\n",
       "       [-0.18219089,  0.19669933,  0.03817661],\n",
       "       [ 0.03341963,  0.19669933,  0.03817661],\n",
       "       [-0.18219089,  0.19669933,  0.03817661],\n",
       "       [-0.18219089,  0.19669933, -0.05060621],\n",
       "       [-0.18219089,  0.04181797,  0.03817661],\n",
       "       [ 0.03341963,  0.19669933,  0.03817661],\n",
       "       [-0.18219089,  0.19669933,  0.03817661],\n",
       "       [-0.18219089,  0.19669933,  0.21574224],\n",
       "       [-0.18219089,  0.19669933, -0.05060621],\n",
       "       [ 0.03341963,  0.19669933, -0.05060621],\n",
       "       [-0.18219089,  0.19669933,  0.03817661],\n",
       "       [-0.18219089,  0.19669933,  0.12695943],\n",
       "       [-0.18219089,  0.04181797, -0.05060621],\n",
       "       [ 0.03341963,  0.19669933,  0.03817661],\n",
       "       [-0.18219089,  0.19669933,  0.03817661],\n",
       "       [-0.18219089,  0.19669933,  0.12695943],\n",
       "       [-0.18219089,  0.19669933,  0.03817661],\n",
       "       [-0.18219089,  0.19669933, -0.05060621],\n",
       "       [ 0.03341963,  0.19669933,  0.03817661],\n",
       "       [-0.18219089,  0.04181797, -0.05060621],\n",
       "       [-0.18219089,  0.19669933,  0.03817661],\n",
       "       [-0.18219089,  0.19669933,  0.03817661],\n",
       "       [-0.18219089,  0.19669933,  0.03817661],\n",
       "       [-0.18219089,  0.19669933,  0.03817661],\n",
       "       [ 0.03341963,  0.19669933,  0.03817661],\n",
       "       [-0.18219089,  0.19669933, -0.05060621],\n",
       "       [-0.18219089,  0.19669933, -0.05060621],\n",
       "       [-0.18219089,  0.19669933, -0.05060621],\n",
       "       [-0.18219089,  0.19669933,  0.03817661],\n",
       "       [-0.18219089,  0.19669933,  0.03817661],\n",
       "       [-0.39780141,  0.19669933,  0.03817661],\n",
       "       [-0.18219089,  0.19669933,  0.03817661],\n",
       "       [ 0.03341963,  0.19669933,  0.03817661],\n",
       "       [-0.18219089,  0.19669933,  0.03817661],\n",
       "       [-0.18219089,  0.19669933, -0.05060621],\n",
       "       [-0.18219089,  0.19669933,  0.12695943],\n",
       "       [-0.18219089,  0.19669933, -0.05060621],\n",
       "       [-0.18219089,  0.19669933,  0.12695943],\n",
       "       [ 0.03341963,  0.19669933, -0.05060621],\n",
       "       [-0.18219089,  0.19669933, -0.05060621],\n",
       "       [-0.18219089,  0.19669933,  0.03817661],\n",
       "       [-0.18219089,  0.19669933,  0.03817661],\n",
       "       [ 0.03341963,  0.19669933,  0.03817661],\n",
       "       [-0.18219089,  0.19669933, -0.05060621],\n",
       "       [-0.18219089,  0.19669933,  0.12695943],\n",
       "       [-0.18219089,  0.04181797,  0.03817661],\n",
       "       [-0.39780141,  0.19669933,  0.12695943],\n",
       "       [-0.18219089,  0.19669933,  0.12695943],\n",
       "       [-0.18219089,  0.19669933, -0.05060621],\n",
       "       [ 0.03341963,  0.35158069,  0.03817661],\n",
       "       [-0.18219089,  0.19669933, -0.05060621],\n",
       "       [-0.18219089,  0.19669933,  0.03817661],\n",
       "       [-0.18219089,  0.19669933,  0.03817661],\n",
       "       [-0.18219089,  0.19669933,  0.12695943],\n",
       "       [-0.18219089,  0.19669933,  0.03817661],\n",
       "       [-0.18219089,  0.19669933,  0.03817661],\n",
       "       [-0.18219089,  0.19669933, -0.05060621],\n",
       "       [-0.18219089,  0.19669933,  0.03817661],\n",
       "       [ 0.03341963,  0.19669933,  0.03817661],\n",
       "       [-0.18219089,  0.19669933, -0.05060621],\n",
       "       [-0.18219089,  0.19669933,  0.03817661],\n",
       "       [-0.18219089,  0.19669933,  0.03817661],\n",
       "       [-0.18219089,  0.19669933,  0.12695943],\n",
       "       [-0.18219089,  0.19669933,  0.03817661],\n",
       "       [-0.18219089,  0.19669933, -0.05060621],\n",
       "       [-0.18219089,  0.19669933,  0.03817661],\n",
       "       [-0.18219089,  0.19669933,  0.03817661],\n",
       "       [-0.18219089,  0.19669933,  0.12695943],\n",
       "       [ 0.03341963,  0.19669933,  0.03817661],\n",
       "       [-0.18219089,  0.19669933,  0.03817661],\n",
       "       [-0.18219089,  0.19669933,  0.03817661],\n",
       "       [-0.18219089,  0.19669933, -0.05060621],\n",
       "       [-0.18219089,  0.19669933, -0.05060621],\n",
       "       [ 0.03341963,  0.19669933,  0.03817661],\n",
       "       [-0.39780141,  0.35158069,  0.03817661],\n",
       "       [-0.18219089,  0.50646205, -0.05060621],\n",
       "       [ 0.89586172,  1.28086886, -0.22817184],\n",
       "       [-0.39780141, -0.8874702 , -0.40573747],\n",
       "       [ 0.03341963,  0.19669933, -0.49452029],\n",
       "       [ 0.89586172,  0.04181797,  0.03817661],\n",
       "       [-0.18219089, -0.11306339, -0.05060621],\n",
       "       [ 0.6802512 , -0.26794476, -0.05060621],\n",
       "       [ 0.24903015, -0.26794476,  0.21574224],\n",
       "       [ 0.03341963, -0.26794476,  0.12695943],\n",
       "       [ 0.24903015,  0.81622478,  0.03817661],\n",
       "       [-0.18219089,  0.35158069, -0.22817184],\n",
       "       [-0.39780141,  0.50646205, -0.31695465],\n",
       "       [ 0.03341963,  0.04181797,  0.57087351],\n",
       "       [-0.61341194,  0.04181797,  0.12695943],\n",
       "       [-0.39780141,  0.35158069,  0.03817661],\n",
       "       [-0.39780141,  0.66134341,  0.03817661],\n",
       "       [-0.18219089,  0.50646205,  0.03817661],\n",
       "       [ 0.03341963,  0.35158069,  0.12695943],\n",
       "       [ 0.03341963,  0.35158069, -0.05060621],\n",
       "       [ 0.03341963,  0.19669933,  0.21574224],\n",
       "       [ 0.46464068, -0.11306339,  0.21574224],\n",
       "       [ 0.03341963,  0.19669933,  0.12695943],\n",
       "       [ 0.03341963, -0.11306339,  0.03817661],\n",
       "       [ 0.03341963,  0.50646205, -0.05060621],\n",
       "       [ 0.03341963,  0.66134341,  0.03817661],\n",
       "       [ 0.03341963,  0.19669933,  0.21574224],\n",
       "       [-0.18219089,  0.50646205,  0.03817661],\n",
       "       [-0.39780141, -0.11306339, -0.22817184],\n",
       "       [ 0.46464068,  0.19669933,  0.21574224],\n",
       "       [ 0.24903015, -0.57770748,  0.03817661],\n",
       "       [ 0.03341963, -1.19723293, -0.05060621],\n",
       "       [-0.82902246, -1.81675837, -0.67208592],\n",
       "       [-0.82902246, -1.81675837,  1.72505012],\n",
       "       [ 1.32708277,  0.19669933, -0.76086874],\n",
       "       [ 1.32708277,  0.04181797,  1.28113604],\n",
       "       [-1.2602435 , -1.19723293,  0.57087351],\n",
       "       [-0.39780141, -1.66187701, -0.67208592],\n",
       "       [ 0.46464068, -0.11306339,  0.21574224],\n",
       "       [ 0.6802512 , -1.04235156, -0.49452029],\n",
       "       [-0.82902246, -0.8874702 , -0.40573747],\n",
       "       [-1.2602435 , -1.19723293, -0.93843437],\n",
       "       [ 1.32708277, -0.26794476,  1.01478759],\n",
       "       [ 1.11147224, -0.42282612, -0.5833031 ],\n",
       "       [ 0.24903015, -1.04235156,  0.21574224],\n",
       "       [-0.18219089, -1.04235156, -0.40573747],\n",
       "       [ 2.18952486, -1.19723293,  0.30452506],\n",
       "       [-0.61341194, -0.11306339,  0.12695943],\n",
       "       [ 0.6802512 , -0.26794476,  0.30452506],\n",
       "       [ 0.89586172, -0.11306339,  0.21574224],\n",
       "       [ 0.24903015,  0.04181797,  0.03817661],\n",
       "       [ 0.46464068,  0.04181797,  0.30452506],\n",
       "       [ 0.24903015,  0.04181797,  0.03817661],\n",
       "       [ 0.03341963,  0.19669933,  0.12695943],\n",
       "       [ 0.03341963, -0.11306339, -0.05060621],\n",
       "       [-0.18219089,  0.04181797,  0.21574224],\n",
       "       [ 0.24903015,  0.35158069,  0.21574224],\n",
       "       [-0.82902246, -0.73258884, -0.40573747],\n",
       "       [-0.18219089, -1.50699565,  1.10357041],\n",
       "       [ 1.54269329, -2.28140246, -0.49452029],\n",
       "       [ 1.75830381, -1.97163973,  0.83722196],\n",
       "       [-0.18219089, -0.57770748,  0.21574224],\n",
       "       [ 0.03341963,  1.28086886, -1.82626253],\n",
       "       [ 0.6802512 ,  0.81622478,  0.74843914],\n",
       "       [ 0.6802512 ,  0.35158069,  1.19235322],\n",
       "       [ 2.6207459 ,  1.43575022,  0.57087351],\n",
       "       [-3.63195925, -0.57770748, -0.5833031 ],\n",
       "       [-0.82902246, -2.28140246, -2.27017661],\n",
       "       [-2.76951716, -0.57770748, -1.55991408],\n",
       "       [-0.18219089, -2.28140246, -0.05060621],\n",
       "       [ 0.46464068,  1.90039431,  2.52409547],\n",
       "       [ 0.46464068, -0.42282612,  2.25774702],\n",
       "       [ 0.6802512 ,  3.60408928,  1.36991885],\n",
       "       [-2.1226856 , -2.12652109, -0.05060621],\n",
       "       [ 1.97391433, -1.50699565, -1.82626253],\n",
       "       [-2.98512769,  2.05527567, -2.53652506],\n",
       "       [-1.47585403, -1.35211429, -3.95705012],\n",
       "       [-1.47585403, -1.35211429, -0.31695465],\n",
       "       [ 1.32708277,  0.66134341,  1.81383294],\n",
       "       [ 1.54269329,  0.81622478,  2.08018138],\n",
       "       [-1.47585403,  1.90039431,  3.41192363],\n",
       "       [ 0.89586172, -1.81675837,  1.54748449],\n",
       "       [ 1.32708277, -0.73258884, -0.22817184],\n",
       "       [ 3.05196695, -1.04235156, -1.02721718],\n",
       "       [-1.2602435 ,  2.05527567, -4.13461575],\n",
       "       [ 2.83635642, -4.1399788 , -2.71409069],\n",
       "       [ 0.89586172,  0.04181797, -0.22817184],\n",
       "       [ 3.48318799, -1.04235156,  2.52409547],\n",
       "       [ 6.93295635,  2.51991975,  4.21096897],\n",
       "       [ 0.89586172,  2.05527567,  2.87922673],\n",
       "       [ 1.32708277, -2.12652109,  2.52409547],\n",
       "       [-3.41634873,  1.28086886, -0.22817184],\n",
       "       [-0.39780141, -4.9143856 , -3.8682673 ],\n",
       "       [-2.98512769,  3.91385201, -3.95705012],\n",
       "       [ 1.54269329, -4.1399788 , -3.8682673 ],\n",
       "       [ 0.03341963,  2.21015703, -1.38234845],\n",
       "       [-0.39780141, -0.26794476,  0.21574224]])"
      ]
     },
     "execution_count": 9,
     "metadata": {},
     "output_type": "execute_result"
    }
   ],
   "source": [
    "scalar = preprocessing.StandardScaler().fit(X)\n",
    "X = scalar.transform(X.astype(float))\n",
    "X"
   ]
  },
  {
   "cell_type": "markdown",
   "id": "39b51bfd",
   "metadata": {},
   "source": [
    "# splitting datas into train and test"
   ]
  },
  {
   "cell_type": "markdown",
   "id": "6027cbe8",
   "metadata": {},
   "source": [
    " we use 80% of data for training the model and the rest(20%) for testing it"
   ]
  },
  {
   "cell_type": "code",
   "execution_count": 10,
   "id": "7ae6fdc1",
   "metadata": {},
   "outputs": [
    {
     "name": "stdout",
     "output_type": "stream",
     "text": [
      "Train set: (160, 3) (160,)\n",
      "Test set: (40, 3) (40,)\n"
     ]
    }
   ],
   "source": [
    "from sklearn.model_selection import train_test_split\n",
    "X_train, X_test, Y_train, Y_test = train_test_split( X, Y, test_size=0.2, random_state=4)\n",
    "print ('Train set:', X_train.shape,  Y_train.shape)\n",
    "print ('Test set:', X_test.shape,  Y_test.shape)"
   ]
  },
  {
   "cell_type": "markdown",
   "id": "f83d24eb",
   "metadata": {},
   "source": [
    "# KNN Classification"
   ]
  },
  {
   "cell_type": "markdown",
   "id": "73f84d88",
   "metadata": {},
   "source": [
    "we use KNN method for classification."
   ]
  },
  {
   "cell_type": "code",
   "execution_count": 12,
   "id": "809f3e12",
   "metadata": {},
   "outputs": [],
   "source": [
    "from sklearn.neighbors import KNeighborsClassifier\n",
    "from sklearn import metrics"
   ]
  },
  {
   "cell_type": "code",
   "execution_count": 13,
   "id": "917691ac",
   "metadata": {},
   "outputs": [
    {
     "data": {
      "text/plain": [
       "array([0, 0, 1, 2, 0, 1, 0, 2, 0, 2, 0, 2, 2, 1, 2, 2, 0, 2, 2, 0, 0, 0,\n",
       "       1, 0, 0, 2, 1, 0, 1, 2, 0, 0, 1, 0, 0, 1, 0, 0, 2, 0], dtype=int64)"
      ]
     },
     "execution_count": 13,
     "metadata": {},
     "output_type": "execute_result"
    }
   ],
   "source": [
    "k = 3\n",
    "# Train Model and Predict  \n",
    "neigh = KNeighborsClassifier(n_neighbors = k).fit(X_train,Y_train)\n",
    "# prediction\n",
    "Yhat = neigh.predict(X_test)\n",
    "Yhat"
   ]
  },
  {
   "cell_type": "markdown",
   "id": "8008c3d2",
   "metadata": {},
   "source": [
    "checking the accuracy of the model"
   ]
  },
  {
   "cell_type": "code",
   "execution_count": 14,
   "id": "d423c958",
   "metadata": {},
   "outputs": [
    {
     "name": "stdout",
     "output_type": "stream",
     "text": [
      "Train set Accuracy:  0.825\n",
      "Test set Accuracy:  0.825\n"
     ]
    }
   ],
   "source": [
    "# checking the accuracy\n",
    "print(\"Train set Accuracy: \", metrics.accuracy_score(Y_train, neigh.predict(X_train)))\n",
    "print(\"Test set Accuracy: \", metrics.accuracy_score(Y_test, Yhat))"
   ]
  },
  {
   "cell_type": "markdown",
   "id": "188af638",
   "metadata": {},
   "source": [
    "so our model is 82.5% accurate in both of them."
   ]
  },
  {
   "cell_type": "markdown",
   "id": "672f471c",
   "metadata": {},
   "source": [
    "# classifying a new data"
   ]
  },
  {
   "cell_type": "code",
   "execution_count": 26,
   "id": "fd9b19c5",
   "metadata": {},
   "outputs": [
    {
     "data": {
      "text/plain": [
       "array([1], dtype=int64)"
      ]
     },
     "execution_count": 26,
     "metadata": {},
     "output_type": "execute_result"
    }
   ],
   "source": [
    "new_data = [0.11,0.02,1.06]\n",
    "new = np.array(new_data).reshape(1, -1)\n",
    "new_label = neigh.predict(new)\n",
    "new_label"
   ]
  },
  {
   "cell_type": "markdown",
   "id": "c98c0c82",
   "metadata": {},
   "source": [
    "so this data is for walking state.(because label 1 is walking)"
   ]
  },
  {
   "cell_type": "markdown",
   "id": "1964c888",
   "metadata": {},
   "source": [
    "# Confusion matrix"
   ]
  },
  {
   "cell_type": "code",
   "execution_count": 15,
   "id": "0aca07b4",
   "metadata": {},
   "outputs": [
    {
     "data": {
      "text/plain": [
       "<sklearn.metrics._plot.confusion_matrix.ConfusionMatrixDisplay at 0x2e310289950>"
      ]
     },
     "execution_count": 15,
     "metadata": {},
     "output_type": "execute_result"
    },
    {
     "data": {
      "image/png": "[encoded data removed]",
      "text/plain": [
       "<Figure size 640x480 with 2 Axes>"
      ]
     },
     "metadata": {},
     "output_type": "display_data"
    }
   ],
   "source": [
    "from sklearn.metrics import ConfusionMatrixDisplay\n",
    "# confusion matrix\n",
    "ConfusionMatrixDisplay.from_predictions(Y_test, Yhat)"
   ]
  },
  {
   "cell_type": "markdown",
   "id": "a72e9a9a",
   "metadata": {},
   "source": [
    "# checking model's recall and precision"
   ]
  },
  {
   "cell_type": "code",
   "execution_count": 16,
   "id": "4fef7946",
   "metadata": {},
   "outputs": [
    {
     "name": "stdout",
     "output_type": "stream",
     "text": [
      "              precision    recall  f1-score   support\n",
      "\n",
      "           0       0.85      0.94      0.89        18\n",
      "           1       0.75      0.60      0.67        10\n",
      "           2       0.83      0.83      0.83        12\n",
      "\n",
      "    accuracy                           0.82        40\n",
      "   macro avg       0.81      0.79      0.80        40\n",
      "weighted avg       0.82      0.82      0.82        40\n",
      "\n"
     ]
    }
   ],
   "source": [
    "from sklearn.metrics import classification_report\n",
    "print(classification_report(Y_test, Yhat))"
   ]
  },
  {
   "cell_type": "markdown",
   "id": "2f855bf5",
   "metadata": {},
   "source": [
    "# using another method for classification: SVM"
   ]
  },
  {
   "cell_type": "code",
   "execution_count": 18,
   "id": "4621779c",
   "metadata": {},
   "outputs": [
    {
     "name": "stdout",
     "output_type": "stream",
     "text": [
      "Train set Accuracy:  0.7625\n",
      "Test set Accuracy:  0.75\n"
     ]
    }
   ],
   "source": [
    "from sklearn import svm\n",
    "clf = svm.SVC(kernel='rbf')\n",
    "clf.fit(X_train, Y_train) \n",
    "yhat2 = clf.predict(X_test)\n",
    "print(\"Train set Accuracy: \", metrics.accuracy_score(Y_train, clf.predict(X_train)))\n",
    "print(\"Test set Accuracy: \", metrics.accuracy_score(Y_test, yhat2))"
   ]
  },
  {
   "cell_type": "markdown",
   "id": "d8d69ad3",
   "metadata": {},
   "source": [
    "so we got 75% accuaracy which is lower than KNN."
   ]
  },
  {
   "cell_type": "code",
   "execution_count": null,
   "id": "2909dd5d",
   "metadata": {},
   "outputs": [],
   "source": []
  }
 ],
 "metadata": {
  "kernelspec": {
   "display_name": "Python 3 (ipykernel)",
   "language": "python",
   "name": "python3"
  },
  "language_info": {
   "codemirror_mode": {
    "name": "ipython",
    "version": 3
   },
   "file_extension": ".py",
   "mimetype": "text/x-python",
   "name": "python",
   "nbconvert_exporter": "python",
   "pygments_lexer": "ipython3",
   "version": "3.11.4"
  }
 },
 "nbformat": 4,
 "nbformat_minor": 5
}
